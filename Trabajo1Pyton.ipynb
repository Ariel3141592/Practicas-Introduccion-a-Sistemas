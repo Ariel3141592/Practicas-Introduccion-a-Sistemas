{
  "nbformat": 4,
  "nbformat_minor": 0,
  "metadata": {
    "colab": {
      "provenance": [],
      "authorship_tag": "ABX9TyO0GUXJr5LJspeaged3vXkn",
      "include_colab_link": true
    },
    "kernelspec": {
      "name": "python3",
      "display_name": "Python 3"
    },
    "language_info": {
      "name": "python"
    }
  },
  "cells": [
    {
      "cell_type": "markdown",
      "metadata": {
        "id": "view-in-github",
        "colab_type": "text"
      },
      "source": [
        "<a href=\"https://colab.research.google.com/github/Ariel3141592/Practicas-Introduccion-a-Sistemas/blob/main/Trabajo1Pyton.ipynb\" target=\"_parent\"><img src=\"https://colab.research.google.com/assets/colab-badge.svg\" alt=\"Open In Colab\"/></a>"
      ]
    },
    {
      "cell_type": "code",
      "execution_count": 2,
      "metadata": {
        "id": "yxXcDTDahDpf"
      },
      "outputs": [],
      "source": []
    },
    {
      "cell_type": "markdown",
      "source": [
        "**Introduccion a Python:**\n",
        "\n",
        "En este trabajo recrearé todo lo aprendido en la clase pasada acerca de la programación en este nuevo lenguaje."
      ],
      "metadata": {
        "id": "fQi5TbGAkErU"
      }
    },
    {
      "cell_type": "markdown",
      "source": [
        "**Introducir datos:**\n",
        "No se necestia expresar de forma explícita el tipo de dato. Si es texto se deberá introducir comillas, y si es numérico, se agrega el número tal cual."
      ],
      "metadata": {
        "id": "Yh7AH_Drn0E0"
      }
    },
    {
      "cell_type": "code",
      "source": [
        "#Introduccion de variables\n",
        "a=1\n",
        "b=2\n",
        "#Hay dos formas de mostrar en la pantalla\n",
        "#Forma 1\n",
        "a+b\n"
      ],
      "metadata": {
        "colab": {
          "base_uri": "https://localhost:8080/"
        },
        "id": "jiHy5KC8k9eT",
        "outputId": "f53e1bc0-5e21-48bf-af86-d7bb0201d903"
      },
      "execution_count": 9,
      "outputs": [
        {
          "output_type": "execute_result",
          "data": {
            "text/plain": [
              "3"
            ]
          },
          "metadata": {},
          "execution_count": 9
        }
      ]
    },
    {
      "cell_type": "code",
      "source": [
        "a=1.1\n",
        "b=2.1\n",
        "#Hay dos formas de expresar las variables\n",
        "#Forma 2\n",
        "print(a+b)"
      ],
      "metadata": {
        "colab": {
          "base_uri": "https://localhost:8080/"
        },
        "id": "3XENXiucm-Ac",
        "outputId": "1d9ff19c-e5b3-4e1f-ede5-ecebccb9e390"
      },
      "execution_count": 18,
      "outputs": [
        {
          "output_type": "stream",
          "name": "stdout",
          "text": [
            "3.2\n"
          ]
        }
      ]
    },
    {
      "cell_type": "markdown",
      "source": [
        "Para el texto y caracteres se usa las comillas simples ('')"
      ],
      "metadata": {
        "id": "XArCsMm-uucn"
      }
    },
    {
      "cell_type": "code",
      "source": [
        "a='Hola'\n",
        "b=' Mundo'\n",
        "\n",
        "a+b"
      ],
      "metadata": {
        "colab": {
          "base_uri": "https://localhost:8080/",
          "height": 35
        },
        "id": "5hsY_vY_u3BH",
        "outputId": "a8431fcd-5bfc-4fe4-c78a-4c1742c01493"
      },
      "execution_count": 15,
      "outputs": [
        {
          "output_type": "execute_result",
          "data": {
            "text/plain": [
              "'Hola Mundo'"
            ],
            "application/vnd.google.colaboratory.intrinsic+json": {
              "type": "string"
            }
          },
          "metadata": {},
          "execution_count": 15
        }
      ]
    },
    {
      "cell_type": "markdown",
      "source": [
        "Como en todos los lenguajes, existen reestricciones. En este caso, no es posible trabajar con caracteres y números a la vez."
      ],
      "metadata": {
        "id": "fje02Ui_vHH3"
      }
    },
    {
      "cell_type": "code",
      "source": [
        "a=1\n",
        "b='a'\n",
        "\n",
        "a+b #Generara un error"
      ],
      "metadata": {
        "colab": {
          "base_uri": "https://localhost:8080/",
          "height": 176
        },
        "id": "EjYfgshsvaEH",
        "outputId": "5c2986b0-6e6c-401c-f40e-43f926c9b624"
      },
      "execution_count": 17,
      "outputs": [
        {
          "output_type": "error",
          "ename": "TypeError",
          "evalue": "unsupported operand type(s) for +: 'int' and 'str'",
          "traceback": [
            "\u001b[0;31m---------------------------------------------------------------------------\u001b[0m",
            "\u001b[0;31mTypeError\u001b[0m                                 Traceback (most recent call last)",
            "\u001b[0;32m/tmp/ipython-input-1068702030.py\u001b[0m in \u001b[0;36m<cell line: 0>\u001b[0;34m()\u001b[0m\n\u001b[1;32m      2\u001b[0m \u001b[0mb\u001b[0m\u001b[0;34m=\u001b[0m\u001b[0;34m'a'\u001b[0m\u001b[0;34m\u001b[0m\u001b[0;34m\u001b[0m\u001b[0m\n\u001b[1;32m      3\u001b[0m \u001b[0;34m\u001b[0m\u001b[0m\n\u001b[0;32m----> 4\u001b[0;31m \u001b[0ma\u001b[0m\u001b[0;34m+\u001b[0m\u001b[0mb\u001b[0m\u001b[0;34m\u001b[0m\u001b[0;34m\u001b[0m\u001b[0m\n\u001b[0m",
            "\u001b[0;31mTypeError\u001b[0m: unsupported operand type(s) for +: 'int' and 'str'"
          ]
        }
      ]
    },
    {
      "cell_type": "markdown",
      "source": [
        "**Condicional:**\n",
        "\n",
        "Por falta de corchetes, las alturas de las estructuras deben ser iguales.\n",
        "\n",
        "Los dos puntos (:) representan los corchetes ({})"
      ],
      "metadata": {
        "id": "hgXsKfmSnPNs"
      }
    },
    {
      "cell_type": "code",
      "source": [
        "a=1\n",
        "b=a\n",
        "if(b==1):\n",
        "  print('Si la afirmacion es verdadera, se genera este texto')\n",
        "else:\n",
        "  print('Si la afirmacion es falsa, se genera este texto')\n",
        "  #En este codigo se generara el primer print porque la condicion es verdadera"
      ],
      "metadata": {
        "colab": {
          "base_uri": "https://localhost:8080/"
        },
        "id": "EL7_y8yloFZ8",
        "outputId": "0e6e62cc-1472-4407-ee58-1bf402492023"
      },
      "execution_count": 16,
      "outputs": [
        {
          "output_type": "stream",
          "name": "stdout",
          "text": [
            "Si la afirmacion es correcta, se genera este texto\n"
          ]
        }
      ]
    },
    {
      "cell_type": "code",
      "source": [
        "a=1\n",
        "b=a\n",
        "if(b!=1):\n",
        "  print('Si la afirmacion es verdadera, se genera este texto')\n",
        "else:\n",
        "  print('Si la afirmacion es falsa, se genera este texto')\n",
        "  #En este codigo se generara el segundo print porque la condicion es falsa"
      ],
      "metadata": {
        "colab": {
          "base_uri": "https://localhost:8080/"
        },
        "id": "FQG93EBRrqm2",
        "outputId": "f4049afc-8ba4-49d9-a960-aee18d6897a1"
      },
      "execution_count": 14,
      "outputs": [
        {
          "output_type": "stream",
          "name": "stdout",
          "text": [
            "Si la afirmacion es incorrecta, se genera este texto\n"
          ]
        }
      ]
    },
    {
      "cell_type": "markdown",
      "source": [
        "**Conjuntos:**"
      ],
      "metadata": {
        "id": "U0pm23cZ3Xyj"
      }
    },
    {
      "cell_type": "code",
      "source": [
        "conjunto = {'a', 'b', 'c'}\n",
        "\n",
        "for i in conjunto:\n",
        "    print(i)\n"
      ],
      "metadata": {
        "colab": {
          "base_uri": "https://localhost:8080/"
        },
        "id": "QBH3y4nG3kWy",
        "outputId": "18ea3603-be90-41ef-9f9c-a08a7dfc9b09"
      },
      "execution_count": 26,
      "outputs": [
        {
          "output_type": "stream",
          "name": "stdout",
          "text": [
            "a\n",
            "b\n",
            "c\n"
          ]
        }
      ]
    },
    {
      "cell_type": "code",
      "source": [
        "#Agregar un elemento\n",
        "conjunto = {'a','b','c'}\n",
        "conjunto.add('x')\n",
        "conjunto.add('y')\n",
        "\n",
        "for i in conjunto:\n",
        "    print(i)"
      ],
      "metadata": {
        "colab": {
          "base_uri": "https://localhost:8080/"
        },
        "id": "8TPrScNB4qPb",
        "outputId": "41e7f0f3-1603-4493-bf23-e2b115bc76f6"
      },
      "execution_count": 43,
      "outputs": [
        {
          "output_type": "stream",
          "name": "stdout",
          "text": [
            "a\n",
            "b\n",
            "c\n",
            "x\n",
            "y\n"
          ]
        }
      ]
    },
    {
      "cell_type": "code",
      "source": [
        "conjunto = {'a','b','Y','x'}\n",
        "conjunto.remove('x') #El elemento removido debe existir\n",
        "conjunto.remove('Y')\n",
        "\n",
        "for i in conjunto:\n",
        "     print(i)"
      ],
      "metadata": {
        "colab": {
          "base_uri": "https://localhost:8080/"
        },
        "id": "GKhtvXp26ezc",
        "outputId": "58bae6b5-c9c8-4a3a-87d4-0f55e7516983"
      },
      "execution_count": 44,
      "outputs": [
        {
          "output_type": "stream",
          "name": "stdout",
          "text": [
            "a\n",
            "b\n"
          ]
        }
      ]
    }
  ]
}