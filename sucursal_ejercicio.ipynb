{
 "cells": [
  {
   "cell_type": "markdown",
   "id": "d708c1b6",
   "metadata": {},
   "source": [
    "# 03 Procesamiento de Datos:\n",
    "### Pasar el dato a la info\n",
    "\n",
    "\n",
    "En este ejercicio se manipula la base de datos de compras de un supermercado."
   ]
  },
  {
   "cell_type": "markdown",
   "id": "44ecfd2e",
   "metadata": {},
   "source": [
    "1. Impotar la libreria pandas"
   ]
  },
  {
   "cell_type": "code",
   "execution_count": 51,
   "id": "167d6c69",
   "metadata": {},
   "outputs": [
    {
     "name": "stdout",
     "output_type": "stream",
     "text": [
      "Requirement already satisfied: pandas in c:\\users\\p5e003-o\\appdata\\local\\programs\\python\\python313\\lib\\site-packages (2.3.3)\n",
      "Requirement already satisfied: numpy>=1.26.0 in c:\\users\\p5e003-o\\appdata\\local\\programs\\python\\python313\\lib\\site-packages (from pandas) (2.3.4)\n",
      "Requirement already satisfied: python-dateutil>=2.8.2 in c:\\users\\p5e003-o\\appdata\\roaming\\python\\python313\\site-packages (from pandas) (2.9.0.post0)\n",
      "Requirement already satisfied: pytz>=2020.1 in c:\\users\\p5e003-o\\appdata\\local\\programs\\python\\python313\\lib\\site-packages (from pandas) (2025.2)\n",
      "Requirement already satisfied: tzdata>=2022.7 in c:\\users\\p5e003-o\\appdata\\local\\programs\\python\\python313\\lib\\site-packages (from pandas) (2025.2)\n",
      "Requirement already satisfied: six>=1.5 in c:\\users\\p5e003-o\\appdata\\roaming\\python\\python313\\site-packages (from python-dateutil>=2.8.2->pandas) (1.17.0)\n",
      "Note: you may need to restart the kernel to use updated packages.\n"
     ]
    }
   ],
   "source": [
    "pip install pandas"
   ]
  },
  {
   "cell_type": "code",
   "execution_count": 52,
   "id": "20911362",
   "metadata": {},
   "outputs": [],
   "source": [
    "import pandas"
   ]
  },
  {
   "cell_type": "markdown",
   "id": "e29b57c1",
   "metadata": {},
   "source": [
    "2. Leer el archivo"
   ]
  },
  {
   "cell_type": "code",
   "execution_count": 53,
   "id": "85bc6eb5",
   "metadata": {},
   "outputs": [
    {
     "data": {
      "text/plain": [
       "'ID_Transaccion,Fecha,Sucursal,ID_Comprador,ID_Producto,Producto,Categoria,Precio_Unitario,Cantidad,Valor_Total\\nT044,2025-09-01 12:34:24,Centro,C061,3001,Manzanas (libra),Frutas y Verduras,0.85,3,2.55\\nT044,2025-09-01 12:34:24,Centro,C061,6001,Gaseosa 2L,Bebidas,2.5,5,12.5\\nT044,2025-09-01 12:34:24,Centro,C061,1002,Queso Fresco 500g,LÃ¡cteos,2.5,4,10.0\\nT044,2025-09-01 12:34:24,Centro,C061,1001,Leche Entera 1L,LÃ¡cteos,1.1,2,2.2\\nT097,2025-09-01 17:59:11,Sur,C061,6002,Jugo de Naranja 1L,Bebidas,1.75,5,8.75\\nT097,2025-09-01 17:59:11,Sur,C061,1003,Yogurt Natural 1L,LÃ¡cteos,1.8,3,5.4\\nT097,2025-09-01 17:59:11,Sur,C061,3004,Lechuga Crespa,Frutas y Verduras,0.45,5,2.25\\nT158,2025-09-01 18:00:48,Norte,C062,3003,Tomate RiÃ±Ã³n (libra),Frutas y Verduras,0.7,4,2.8\\nT158,2025-09-01 18:00:48,Norte,C062,1001,Leche Entera 1L,LÃ¡cteos,1.1,5,5.5\\nT158,2025-09-01 18:00:48,Norte,C062,1003,Yogurt Natural 1L,LÃ¡cteos,1.8,1,1.8\\nT158,2025-09-01 18:00:48,Norte,C062,7001,Shampoo,Cuidado Personal,4.5,5,22.5\\nT046,2025-09-01 19:33:32,Centro,C025,8001,Detergente LÃ\\xadquido 1L,Limpieza,5.0,4,20.0\\nT046,2025-09-01 19:33:32,Centro,C025,7001,Shampoo,Cuidado Personal,4.5,1,4.5\\nT046,2025-09-01 19:33:32,Centro,C025,3002,PlÃ¡tanos (libra),Frutas y Verduras,0.6,1,0.6\\nT040,2025-09-01 20:09:59,Sur,C084,3001,Manzanas (libra),Frutas y Verduras,0.85,2,1.7\\nT040,2025-09-01 20:09:59,Sur,C084,5004,Aceite de Girasol 1L,Granos y Abarrotes,3.0,5,15.0\\nT040,2025-09-01 20:09:59,Sur,C084,3001,Manzanas (libra),Frutas y Verduras,0.85,4,3.4\\nT031,2025-09-02 12:40:49,Centro,C037,3003,Tomate RiÃ±Ã³n (libra),Frutas y Verduras,0.7,4,2.8\\nT031,2025-09-02 12:40:49,Centro,C037,6002,Jugo de Naranja 1L,Bebidas,1.75,5,8.75\\nT172,2025-09-02 12:56:18,Norte,C047,3003,Tomate RiÃ±Ã³n (libra),Frutas y Verduras,0.7,1,0.7\\nT172,2025-09-02 12:56:18,Norte,C047,5001,Arroz (kg),Granos y Abarrotes,1.6,4,6.4\\nT195,2025-09-02 15:24:20,Norte,C062,6002,Jugo de Naranja 1L,Bebidas,1.75,4,7.0\\nT195,2025-09-02 15:24:20,Norte,C062,5004,Aceite de Girasol 1L,Granos y Abarrotes,3.0,1,3.0\\nT195,2025-09-02 15:24:20,Norte,C062,8001,Detergente LÃ\\xadquido 1L,Limpieza,5.0,5,25.0\\nT150,2025-09-02 15:33:35,Centro,C017,3002,PlÃ¡tanos (libra),Frutas y Verduras,0.6,3,1.8\\nT150,2025-09-02 15:33:35,Centro,C017,6002,Jugo de Naranja 1L,Bebidas,1.75,2,3.5\\nT092,2025-09-03 13:30:27,Norte,C054,1002,Queso Fresco 500g,LÃ¡cteos,2.5,2,5.0\\nT171,2025-09-03 14:01:56,Norte,C026,6002,Jugo de Naranja 1L,Bebidas,1.75,5,8.75\\nT171,2025-09-03 14:01:56,Norte,C026,6002,Jugo de Naranja 1L,Bebidas,1.75,3,5.25\\nT187,2025-09-03 14:16:22,Sur,C022,6001,Gaseosa 2L,Bebidas,2.5,3,7.5\\nT038,2025-09-03 18:21:31,Norte,C097,5001,Arroz (kg),Granos y Abarrotes,1.6,5,8.0\\nT038,2025-09-03 18:21:31,Norte,C097,5002,Lentejas (kg),Granos y Abarrotes,1.4,5,7.0\\nT038,2025-09-03 18:21:31,Norte,C097,2002,Croissants (unidad),PanaderÃ\\xada,0.5,4,2.0\\nT038,2025-09-03 18:21:31,Norte,C097,3004,Lechuga Crespa,Frutas y Verduras,0.45,5,2.25\\nT043,2025-09-03 20:26:05,Sur,C079,2001,Pan de Molde Blanco,PanaderÃ\\xada,1.9,3,5.7\\nT043,2025-09-03 20:26:05,Sur,C079,3002,PlÃ¡tanos (libra),Frutas y Verduras,0.6,1,0.6\\nT043,2025-09-03 20:26:05,Sur,C079,6002,Jugo de Naranja 1L,Bebidas,1.75,1,1.75\\nT043,2025-09-03 20:26:05,Sur,C079,3003,Tomate RiÃ±Ã³n (libra),Frutas y Verduras,0.7,3,2.1\\nT043,2025-09-03 20:26:05,Sur,C079,5003,AtÃºn en lata,Granos y Abarrotes,1.2,5,6.0\\nT069,2025-09-03 20:35:45,Norte,C086,3003,Tomate RiÃ±Ã³n (libra),Frutas y Verduras,0.7,1,0.7\\nT069,2025-09-03 20:35:45,Norte,C086,6002,Jugo de Naranja 1L,Bebidas,1.75,1,1.75\\nT192,2025-09-04 12:02:32,Centro,C036,1001,Leche Entera 1L,LÃ¡cteos,1.1,3,3.3\\nT192,2025-09-04 12:02:32,Centro,C036,6002,Jugo de Naranja 1L,Bebidas,1.75,3,5.25\\nT192,2025-09-04 12:02:32,Centro,C036,2001,Pan de Molde Blanco,PanaderÃ\\xada,1.9,5,9.5\\nT095,2025-09-04 20:00:49,Sur,C015,6002,Jugo de Naranja 1L,Bebidas,1.75,1,1.75\\nT095,2025-09-04 20:00:49,Sur,C015,2001,Pan de Molde Blanco,PanaderÃ\\xada,1.9,1,1.9\\nT095,2025-09-04 20:00:49,Sur,C015,5004,Aceite de Girasol 1L,Granos y Abarrotes,3.0,3,9.0\\nT095,2025-09-04 20:00:49,Sur,C015,6001,Gaseosa 2L,Bebidas,2.5,2,5.0\\nT138,2025-09-05 11:00:33,Centro,C019,3004,Lechuga Crespa,Frutas y Verduras,0.45,3,1.35\\nT138,2025-09-05 11:00:33,Centro,C019,5002,Lentejas (kg),Granos y Abarrotes,1.4,2,2.8\\nT063,2025-09-05 12:04:42,Norte,C073,1002,Queso Fresco 500g,LÃ¡cteos,2.5,4,10.0\\nT039,2025-09-05 12:06:07,Centro,C011,7002,Papel HigiÃ©nico (4 rollos),Cuidado Personal,2.2,4,8.8\\nT061,2025-09-05 14:06:28,Centro,C064,5002,Lentejas (kg),Granos y Abarrotes,1.4,5,7.0\\nT061,2025-09-05 14:06:28,Centro,C064,5001,Arroz (kg),Granos y Abarrotes,1.6,1,1.6\\nT134,2025-09-05 17:04:57,Norte,C061,7002,Papel HigiÃ©nico (4 rollos),Cuidado Personal,2.2,4,8.8\\nT107,2025-09-05 19:50:21,Centro,C095,4002,Carne Molida (libra),Carnes,3.5,1,3.5\\nT107,2025-09-05 19:50:21,Centro,C095,1001,Leche Entera 1L,LÃ¡cteos,1.1,4,4.4\\nT107,2025-09-05 19:50:21,Centro,C095,1003,Yogurt Natural 1L,LÃ¡cteos,1.8,3,5.4\\nT107,2025-09-05 19:50:21,Centro,C095,2002,Croissants (unidad),PanaderÃ\\xada,0.5,1,0.5\\nT017,2025-09-06 12:13:53,Centro,C053,1001,Leche Entera 1L,LÃ¡cteos,1.1,4,4.4\\nT017,2025-09-06 12:13:53,Centro,C053,3003,Tomate RiÃ±Ã³n (libra),Frutas y Verduras,0.7,5,3.5\\nT017,2025-09-06 12:13:53,Centro,C053,2002,Croissants (unidad),PanaderÃ\\xada,0.5,5,2.5\\nT017,2025-09-06 12:13:53,Centro,C053,1002,Queso Fresco 500g,LÃ¡cteos,2.5,3,7.5\\nT017,2025-09-06 12:13:53,Centro,C053,6002,Jugo de Naranja 1L,Bebidas,1.75,4,7.0\\nT104,2025-09-06 12:50:17,Sur,C022,3004,Lechuga Crespa,Frutas y Verduras,0.45,5,2.25\\nT104,2025-09-06 12:50:17,Sur,C022,4002,Carne Molida (libra),Carnes,3.5,4,14.0\\nT174,2025-09-06 14:42:35,Centro,C083,7002,Papel HigiÃ©nico (4 rollos),Cuidado Personal,2.2,1,2.2\\nT174,2025-09-06 14:42:35,Centro,C083,7002,Papel HigiÃ©nico (4 rollos),Cuidado Personal,2.2,3,6.6\\nT174,2025-09-06 14:42:35,Centro,C083,6002,Jugo de Naranja 1L,Bebidas,1.75,2,3.5\\nT174,2025-09-06 14:42:35,Centro,C083,3003,Tomate RiÃ±Ã³n (libra),Frutas y Verduras,0.7,3,2.1\\nT035,2025-09-06 15:44:58,Sur,C053,6001,Gaseosa 2L,Bebidas,2.5,1,2.5\\nT176,2025-09-07 11:51:29,Norte,C084,1002,Queso Fresco 500g,LÃ¡cteos,2.5,5,12.5\\nT176,2025-09-07 11:51:29,Norte,C084,4003,JamÃ³n de Pavo 250g,Carnes,2.8,2,5.6\\nT176,2025-09-07 11:51:29,Norte,C084,4001,Pollo Entero (libra),Carnes,2.1,3,6.3\\nT176,2025-09-07 11:51:29,Norte,C084,1001,Leche Entera 1L,LÃ¡cteos,1.1,5,5.5\\nT176,2025-09-07 11:51:29,Norte,C084,3002,PlÃ¡tanos (libra),Frutas y Verduras,0.6,5,3.0\\nT072,2025-09-07 14:08:05,Norte,C053,2002,Croissants (unidad),PanaderÃ\\xada,0.5,4,2.0\\nT072,2025-09-07 14:08:05,Norte,C053,4001,Pollo Entero (libra),Carnes,2.1,1,2.1\\nT072,2025-09-07 14:08:05,Norte,C053,5004,Aceite de Girasol 1L,Granos y Abarrotes,3.0,2,6.0\\nT072,2025-09-07 14:08:05,Norte,C053,7002,Papel HigiÃ©nico (4 rollos),Cuidado Personal,2.2,4,8.8\\nT072,2025-09-07 14:08:05,Norte,C053,4001,Pollo Entero (libra),Carnes,2.1,4,8.4\\nT003,2025-09-07 16:51:11,Sur,C076,3003,Tomate RiÃ±Ã³n (libra),Frutas y Verduras,0.7,1,0.7\\nT003,2025-09-07 16:51:11,Sur,C076,1003,Yogurt Natural 1L,LÃ¡cteos,1.8,2,3.6\\nT003,2025-09-07 16:51:11,Sur,C076,2001,Pan de Molde Blanco,PanaderÃ\\xada,1.9,5,9.5\\nT141,2025-09-08 14:43:41,Centro,C050,3002,PlÃ¡tanos (libra),Frutas y Verduras,0.6,4,2.4\\nT141,2025-09-08 14:43:41,Centro,C050,3004,Lechuga Crespa,Frutas y Verduras,0.45,4,1.8\\nT105,2025-09-08 16:19:32,Sur,C008,4003,JamÃ³n de Pavo 250g,Carnes,2.8,2,5.6\\nT105,2025-09-08 16:19:32,Sur,C008,5004,Aceite de Girasol 1L,Granos y Abarrotes,3.0,2,6.0\\nT105,2025-09-08 16:19:32,Sur,C008,4002,Carne Molida (libra),Carnes,3.5,5,17.5\\nT016,2025-09-09 10:47:20,Centro,C100,1002,Queso Fresco 500g,LÃ¡cteos,2.5,2,5.0\\nT016,2025-09-09 10:47:20,Centro,C100,3002,PlÃ¡tanos (libra),Frutas y Verduras,0.6,4,2.4\\nT016,2025-09-09 10:47:20,Centro,C100,6002,Jugo de Naranja 1L,Bebidas,1.75,1,1.75\\nT016,2025-09-09 10:47:20,Centro,C100,4002,Carne Molida (libra),Carnes,3.5,1,3.5\\nT163,2025-09-09 13:13:31,Norte,C054,7002,Papel HigiÃ©nico (4 rollos),Cuidado Personal,2.2,3,6.6\\nT163,2025-09-09 13:13:31,Norte,C054,4002,Carne Molida (libra),Carnes,3.5,3,10.5\\nT163,2025-09-09 13:13:31,Norte,C054,5004,Aceite de Girasol 1L,Granos y Abarrotes,3.0,2,6.0\\nT116,2025-09-09 13:46:16,Centro,C033,2002,Croissants (unidad),PanaderÃ\\xada,0.5,2,1.0\\nT116,2025-09-09 13:46:16,Centro,C033,5001,Arroz (kg),Granos y Abarrotes,1.6,1,1.6\\nT116,2025-09-09 13:46:16,Centro,C033,1002,Queso Fresco 500g,LÃ¡cteos,2.5,3,7.5\\nT116,2025-09-09 13:46:16,Centro,C033,8001,Detergente LÃ\\xadquido 1L,Limpieza,5.0,1,5.0\\nT136,2025-09-09 15:42:06,Norte,C100,3003,Tomate RiÃ±Ã³n (libra),Frutas y Verduras,0.7,4,2.8\\nT147,2025-09-09 20:53:39,Norte,C087,5003,AtÃºn en lata,Granos y Abarrotes,1.2,1,1.2\\nT147,2025-09-09 20:53:39,Norte,C087,7001,Shampoo,Cuidado Personal,4.5,2,9.0\\nT144,2025-09-10 10:05:56,Sur,C007,5003,AtÃºn en lata,Granos y Abarrotes,1.2,5,6.0\\nT144,2025-09-10 10:05:56,Sur,C007,3002,PlÃ¡tanos (libra),Frutas y Verduras,0.6,4,2.4\\nT054,2025-09-10 13:21:57,Norte,C062,6001,Gaseosa 2L,Bebidas,2.5,2,5.0\\nT151,2025-09-10 15:49:01,Norte,C071,4001,Pollo Entero (libra),Carnes,2.1,3,6.3\\nT177,2025-09-10 17:25:38,Sur,C038,4001,Pollo Entero (libra),Carnes,2.1,1,2.1\\nT177,2025-09-10 17:25:38,Sur,C038,5002,Lentejas (kg),Granos y Abarrotes,1.4,4,5.6\\nT128,2025-09-11 12:57:06,Sur,C085,1003,Yogurt Natural 1L,LÃ¡cteos,1.8,1,1.8\\nT128,2025-09-11 12:57:06,Sur,C085,4003,JamÃ³n de Pavo 250g,Carnes,2.8,3,8.4\\nT096,2025-09-11 17:40:34,Norte,C064,4001,Pollo Entero (libra),Carnes,2.1,3,6.3\\nT096,2025-09-11 17:40:34,Norte,C064,5001,Arroz (kg),Granos y Abarrotes,1.6,2,3.2\\nT096,2025-09-11 17:40:34,Norte,C064,4003,JamÃ³n de Pavo 250g,Carnes,2.8,4,11.2\\nT096,2025-09-11 17:40:34,Norte,C064,3003,Tomate RiÃ±Ã³n (libra),Frutas y Verduras,0.7,1,0.7\\nT179,2025-09-11 18:51:44,Centro,C086,2001,Pan de Molde Blanco,PanaderÃ\\xada,1.9,3,5.7\\nT179,2025-09-11 18:51:44,Centro,C086,1003,Yogurt Natural 1L,LÃ¡cteos,1.8,1,1.8\\nT179,2025-09-11 18:51:44,Centro,C086,1002,Queso Fresco 500g,LÃ¡cteos,2.5,5,12.5\\nT179,2025-09-11 18:51:44,Centro,C086,4001,Pollo Entero (libra),Carnes,2.1,3,6.3\\nT018,2025-09-11 20:59:45,Norte,C054,4002,Carne Molida (libra),Carnes,3.5,2,7.0\\nT018,2025-09-11 20:59:45,Norte,C054,3003,Tomate RiÃ±Ã³n (libra),Frutas y Verduras,0.7,3,2.1\\nT180,2025-09-12 09:05:38,Sur,C047,3004,Lechuga Crespa,Frutas y Verduras,0.45,3,1.35\\nT024,2025-09-12 12:16:08,Centro,C092,2002,Croissants (unidad),PanaderÃ\\xada,0.5,1,0.5\\nT024,2025-09-12 12:16:08,Centro,C092,5001,Arroz (kg),Granos y Abarrotes,1.6,4,6.4\\nT024,2025-09-12 12:16:08,Centro,C092,1003,Yogurt Natural 1L,LÃ¡cteos,1.8,3,5.4\\nT101,2025-09-12 19:18:16,Sur,C077,5003,AtÃºn en lata,Granos y Abarrotes,1.2,1,1.2\\nT106,2025-09-13 16:09:45,Centro,C046,2002,Croissants (unidad),PanaderÃ\\xada,0.5,2,1.0\\nT106,2025-09-13 16:09:45,Centro,C046,3004,Lechuga Crespa,Frutas y Verduras,0.45,5,2.25\\nT106,2025-09-13 16:09:45,Centro,C046,2002,Croissants (unidad),PanaderÃ\\xada,0.5,1,0.5\\nT106,2025-09-13 16:09:45,Centro,C046,3003,Tomate RiÃ±Ã³n (libra),Frutas y Verduras,0.7,1,0.7\\nT145,2025-09-13 18:36:29,Norte,C092,2002,Croissants (unidad),PanaderÃ\\xada,0.5,1,0.5\\nT198,2025-09-13 20:42:39,Norte,C052,4001,Pollo Entero (libra),Carnes,2.1,3,6.3\\nT198,2025-09-13 20:42:39,Norte,C052,6001,Gaseosa 2L,Bebidas,2.5,1,2.5\\nT198,2025-09-13 20:42:39,Norte,C052,5001,Arroz (kg),Granos y Abarrotes,1.6,2,3.2\\nT067,2025-09-13 20:46:11,Norte,C090,2001,Pan de Molde Blanco,PanaderÃ\\xada,1.9,2,3.8\\nT067,2025-09-13 20:46:11,Norte,C090,4003,JamÃ³n de Pavo 250g,Carnes,2.8,5,14.0\\nT001,2025-09-14 18:01:29,Centro,C033,3002,PlÃ¡tanos (libra),Frutas y Verduras,0.6,5,3.0\\nT001,2025-09-14 18:01:29,Centro,C033,7002,Papel HigiÃ©nico (4 rollos),Cuidado Personal,2.2,1,2.2\\nT001,2025-09-14 18:01:29,Centro,C033,6001,Gaseosa 2L,Bebidas,2.5,2,5.0\\nT001,2025-09-14 18:01:29,Centro,C033,4003,JamÃ³n de Pavo 250g,Carnes,2.8,1,2.8\\nT001,2025-09-14 18:01:29,Centro,C033,3004,Lechuga Crespa,Frutas y Verduras,0.45,1,0.45\\nT001,2025-09-14 18:01:29,Centro,C033,2002,Croissants (unidad),PanaderÃ\\xada,0.5,1,0.5\\nT111,2025-09-15 10:11:43,Norte,C019,3002,PlÃ¡tanos (libra),Frutas y Verduras,0.6,3,1.8\\nT124,2025-09-15 15:57:17,Norte,C013,1003,Yogurt Natural 1L,LÃ¡cteos,1.8,4,7.2\\nT124,2025-09-15 15:57:17,Norte,C013,5001,Arroz (kg),Granos y Abarrotes,1.6,3,4.8\\nT131,2025-09-15 18:26:11,Centro,C043,2002,Croissants (unidad),PanaderÃ\\xada,0.5,1,0.5\\nT062,2025-09-15 20:15:11,Centro,C077,2002,Croissants (unidad),PanaderÃ\\xada,0.5,2,1.0\\nT029,2025-09-16 11:52:08,Norte,C020,8001,Detergente LÃ\\xadquido 1L,Limpieza,5.0,2,10.0\\nT029,2025-09-16 11:52:08,Norte,C020,4001,Pollo Entero (libra),Carnes,2.1,3,6.3\\nT075,2025-09-17 12:25:53,Sur,C025,8001,Detergente LÃ\\xadquido 1L,Limpieza,5.0,4,20.0\\nT115,2025-09-17 19:30:40,Centro,C093,2002,Croissants (unidad),PanaderÃ\\xada,0.5,1,0.5\\nT115,2025-09-17 19:30:40,Centro,C093,3004,Lechuga Crespa,Frutas y Verduras,0.45,3,1.35\\nT115,2025-09-17 19:30:40,Centro,C093,3002,PlÃ¡tanos (libra),Frutas y Verduras,0.6,5,3.0\\nT052,2025-09-18 09:23:35,Sur,C084,6002,Jugo de Naranja 1L,Bebidas,1.75,5,8.75\\nT052,2025-09-18 09:23:35,Sur,C084,2002,Croissants (unidad),PanaderÃ\\xada,0.5,5,2.5\\nT052,2025-09-18 09:23:35,Sur,C084,4001,Pollo Entero (libra),Carnes,2.1,2,4.2\\nT140,2025-09-18 09:32:42,Centro,C089,3003,Tomate RiÃ±Ã³n (libra),Frutas y Verduras,0.7,1,0.7\\nT140,2025-09-18 09:32:42,Centro,C089,5003,AtÃºn en lata,Granos y Abarrotes,1.2,1,1.2\\nT140,2025-09-18 09:32:42,Centro,C089,7002,Papel HigiÃ©nico (4 rollos),Cuidado Personal,2.2,1,2.2\\nT140,2025-09-18 09:32:42,Centro,C089,3001,Manzanas (libra),Frutas y Verduras,0.85,2,1.7\\nT140,2025-09-18 09:32:42,Centro,C089,3002,PlÃ¡tanos (libra),Frutas y Verduras,0.6,1,0.6\\nT143,2025-09-19 15:35:12,Centro,C096,3002,PlÃ¡tanos (libra),Frutas y Verduras,0.6,4,2.4\\nT143,2025-09-19 15:35:12,Centro,C096,7001,Shampoo,Cuidado Personal,4.5,1,4.5\\nT169,2025-09-19 17:04:08,Centro,C091,3004,Lechuga Crespa,Frutas y Verduras,0.45,5,2.25\\nT078,2025-09-19 20:58:44,Sur,C007,8001,Detergente LÃ\\xadquido 1L,Limpieza,5.0,4,20.0\\nT078,2025-09-19 20:58:44,Sur,C007,4001,Pollo Entero (libra),Carnes,2.1,5,10.5\\nT078,2025-09-19 20:58:44,Sur,C007,3001,Manzanas (libra),Frutas y Verduras,0.85,3,2.55\\nT160,2025-09-20 19:58:57,Norte,C096,1003,Yogurt Natural 1L,LÃ¡cteos,1.8,2,3.6\\nT160,2025-09-20 19:58:57,Norte,C096,2001,Pan de Molde Blanco,PanaderÃ\\xada,1.9,3,5.7\\nT053,2025-09-21 12:19:55,Norte,C020,5004,Aceite de Girasol 1L,Granos y Abarrotes,3.0,4,12.0\\nT010,2025-09-21 19:46:18,Norte,C072,3002,PlÃ¡tanos (libra),Frutas y Verduras,0.6,5,3.0\\nT010,2025-09-21 19:46:18,Norte,C072,6002,Jugo de Naranja 1L,Bebidas,1.75,3,5.25\\nT127,2025-09-21 21:00:00,Norte,C023,3003,Tomate RiÃ±Ã³n (libra),Frutas y Verduras,0.7,2,1.4\\nT127,2025-09-21 21:00:00,Norte,C023,3003,Tomate RiÃ±Ã³n (libra),Frutas y Verduras,0.7,1,0.7\\nT127,2025-09-21 21:00:00,Norte,C023,6001,Gaseosa 2L,Bebidas,2.5,4,10.0\\nT127,2025-09-21 21:00:00,Norte,C023,3001,Manzanas (libra),Frutas y Verduras,0.85,2,1.7\\nT034,2025-09-22 10:44:03,Norte,C055,1001,Leche Entera 1L,LÃ¡cteos,1.1,2,2.2\\nT034,2025-09-22 10:44:03,Norte,C055,5003,AtÃºn en lata,Granos y Abarrotes,1.2,3,3.6\\nT034,2025-09-22 10:44:03,Norte,C055,1003,Yogurt Natural 1L,LÃ¡cteos,1.8,3,5.4\\nT034,2025-09-22 10:44:03,Norte,C055,4002,Carne Molida (libra),Carnes,3.5,3,10.5\\nT034,2025-09-22 10:44:03,Norte,C055,1002,Queso Fresco 500g,LÃ¡cteos,2.5,3,7.5\\nT170,2025-09-22 18:00:08,Sur,C047,4003,JamÃ³n de Pavo 250g,Carnes,2.8,1,2.8\\nT170,2025-09-22 18:00:08,Sur,C047,3004,Lechuga Crespa,Frutas y Verduras,0.45,1,0.45\\nT170,2025-09-22 18:00:08,Sur,C047,6001,Gaseosa 2L,Bebidas,2.5,5,12.5\\nT004,2025-09-22 18:29:15,Norte,C084,3002,PlÃ¡tanos (libra),Frutas y Verduras,0.6,2,1.2\\nT004,2025-09-22 18:29:15,Norte,C084,7002,Papel HigiÃ©nico (4 rollos),Cuidado Personal,2.2,3,6.6\\nT004,2025-09-22 18:29:15,Norte,C084,3004,Lechuga Crespa,Frutas y Verduras,0.45,3,1.35\\nT004,2025-09-22 18:29:15,Norte,C084,6002,Jugo de Naranja 1L,Bebidas,1.75,4,7.0\\nT004,2025-09-22 18:29:15,Norte,C084,5002,Lentejas (kg),Granos y Abarrotes,1.4,4,5.6\\nT004,2025-09-22 18:29:15,Norte,C084,3004,Lechuga Crespa,Frutas y Verduras,0.45,1,0.45\\nT047,2025-09-22 18:53:14,Centro,C058,5004,Aceite de Girasol 1L,Granos y Abarrotes,3.0,1,3.0\\nT196,2025-09-23 10:28:34,Norte,C020,3001,Manzanas (libra),Frutas y Verduras,0.85,5,4.25\\nT196,2025-09-23 10:28:34,Norte,C020,5002,Lentejas (kg),Granos y Abarrotes,1.4,2,2.8\\nT196,2025-09-23 10:28:34,Norte,C020,7001,Shampoo,Cuidado Personal,4.5,5,22.5\\nT027,2025-09-23 11:31:29,Sur,C042,3002,PlÃ¡tanos (libra),Frutas y Verduras,0.6,3,1.8\\nT027,2025-09-23 11:31:29,Sur,C042,8001,Detergente LÃ\\xadquido 1L,Limpieza,5.0,5,25.0\\nT027,2025-09-23 11:31:29,Sur,C042,5001,Arroz (kg),Granos y Abarrotes,1.6,2,3.2\\nT027,2025-09-23 11:31:29,Sur,C042,3003,Tomate RiÃ±Ã³n (libra),Frutas y Verduras,0.7,2,1.4\\nT055,2025-09-23 14:37:20,Norte,C025,5003,AtÃºn en lata,Granos y Abarrotes,1.2,1,1.2\\nT055,2025-09-23 14:37:20,Norte,C025,3004,Lechuga Crespa,Frutas y Verduras,0.45,5,2.25\\nT055,2025-09-23 14:37:20,Norte,C025,5001,Arroz (kg),Granos y Abarrotes,1.6,2,3.2\\nT083,2025-09-23 18:10:23,Centro,C080,3004,Lechuga Crespa,Frutas y Verduras,0.45,2,0.9\\nT083,2025-09-23 18:10:23,Centro,C080,6002,Jugo de Naranja 1L,Bebidas,1.75,4,7.0\\nT083,2025-09-23 18:10:23,Centro,C080,5004,Aceite de Girasol 1L,Granos y Abarrotes,3.0,4,12.0\\nT083,2025-09-23 18:10:23,Centro,C080,4001,Pollo Entero (libra),Carnes,2.1,5,10.5\\nT083,2025-09-23 18:10:23,Centro,C080,3002,PlÃ¡tanos (libra),Frutas y Verduras,0.6,4,2.4\\nT191,2025-09-23 20:49:39,Sur,C056,3001,Manzanas (libra),Frutas y Verduras,0.85,2,1.7\\nT191,2025-09-23 20:49:39,Sur,C056,8001,Detergente LÃ\\xadquido 1L,Limpieza,5.0,1,5.0\\nT191,2025-09-23 20:49:39,Sur,C056,3001,Manzanas (libra),Frutas y Verduras,0.85,2,1.7\\nT191,2025-09-23 20:49:39,Sur,C056,5001,Arroz (kg),Granos y Abarrotes,1.6,2,3.2\\nT191,2025-09-23 20:49:39,Sur,C056,2001,Pan de Molde Blanco,PanaderÃ\\xada,1.9,1,1.9\\nT186,2025-09-24 10:15:08,Sur,C100,7001,Shampoo,Cuidado Personal,4.5,2,9.0\\nT186,2025-09-24 10:15:08,Sur,C100,4001,Pollo Entero (libra),Carnes,2.1,4,8.4\\nT186,2025-09-24 10:15:08,Sur,C100,1001,Leche Entera 1L,LÃ¡cteos,1.1,4,4.4\\nT086,2025-09-24 12:17:42,Norte,C031,4002,Carne Molida (libra),Carnes,3.5,2,7.0\\nT086,2025-09-24 12:17:42,Norte,C031,3004,Lechuga Crespa,Frutas y Verduras,0.45,3,1.35\\nT086,2025-09-24 12:17:42,Norte,C031,2002,Croissants (unidad),PanaderÃ\\xada,0.5,3,1.5\\nT086,2025-09-24 12:17:42,Norte,C031,5002,Lentejas (kg),Granos y Abarrotes,1.4,2,2.8\\nT020,2025-09-24 14:17:17,Norte,C079,3001,Manzanas (libra),Frutas y Verduras,0.85,5,4.25\\nT020,2025-09-24 14:17:17,Norte,C079,2002,Croissants (unidad),PanaderÃ\\xada,0.5,2,1.0\\nT020,2025-09-24 14:17:17,Norte,C079,2001,Pan de Molde Blanco,PanaderÃ\\xada,1.9,2,3.8\\nT103,2025-09-24 15:58:34,Sur,C004,3001,Manzanas (libra),Frutas y Verduras,0.85,3,2.55\\nT056,2025-09-24 16:11:13,Sur,C089,7001,Shampoo,Cuidado Personal,4.5,3,13.5\\nT056,2025-09-24 16:11:13,Sur,C089,5002,Lentejas (kg),Granos y Abarrotes,1.4,2,2.8\\nT056,2025-09-24 16:11:13,Sur,C089,3003,Tomate RiÃ±Ã³n (libra),Frutas y Verduras,0.7,4,2.8\\nT197,2025-09-24 19:01:22,Sur,C016,3002,PlÃ¡tanos (libra),Frutas y Verduras,0.6,3,1.8\\nT197,2025-09-24 19:01:22,Sur,C016,1003,Yogurt Natural 1L,LÃ¡cteos,1.8,3,5.4\\nT197,2025-09-24 19:01:22,Sur,C016,5002,Lentejas (kg),Granos y Abarrotes,1.4,2,2.8\\nT197,2025-09-24 19:01:22,Sur,C016,4002,Carne Molida (libra),Carnes,3.5,1,3.5\\nT188,2025-09-25 10:27:00,Sur,C084,5001,Arroz (kg),Granos y Abarrotes,1.6,4,6.4\\nT159,2025-09-25 14:37:40,Centro,C098,7002,Papel HigiÃ©nico (4 rollos),Cuidado Personal,2.2,4,8.8\\nT159,2025-09-25 14:37:40,Centro,C098,3003,Tomate RiÃ±Ã³n (libra),Frutas y Verduras,0.7,3,2.1\\nT146,2025-09-26 10:16:47,Sur,C034,5004,Aceite de Girasol 1L,Granos y Abarrotes,3.0,1,3.0\\nT146,2025-09-26 10:16:47,Sur,C034,5004,Aceite de Girasol 1L,Granos y Abarrotes,3.0,3,9.0\\nT146,2025-09-26 10:16:47,Sur,C034,2001,Pan de Molde Blanco,PanaderÃ\\xada,1.9,4,7.6\\nT146,2025-09-26 10:16:47,Sur,C034,5004,Aceite de Girasol 1L,Granos y Abarrotes,3.0,2,6.0\\nT005,2025-09-26 12:45:54,Sur,C086,5002,Lentejas (kg),Granos y Abarrotes,1.4,1,1.4\\nT005,2025-09-26 12:45:54,Sur,C086,3002,PlÃ¡tanos (libra),Frutas y Verduras,0.6,4,2.4\\nT037,2025-09-26 13:01:12,Norte,C017,3002,PlÃ¡tanos (libra),Frutas y Verduras,0.6,3,1.8\\nT037,2025-09-26 13:01:12,Norte,C017,1003,Yogurt Natural 1L,LÃ¡cteos,1.8,2,3.6\\nT037,2025-09-26 13:01:12,Norte,C017,6002,Jugo de Naranja 1L,Bebidas,1.75,4,7.0\\nT037,2025-09-26 13:01:12,Norte,C017,8001,Detergente LÃ\\xadquido 1L,Limpieza,5.0,1,5.0\\nT113,2025-09-26 13:26:08,Norte,C045,3004,Lechuga Crespa,Frutas y Verduras,0.45,1,0.45\\nT091,2025-09-26 17:59:20,Sur,C093,4002,Carne Molida (libra),Carnes,3.5,4,14.0\\nT091,2025-09-26 17:59:20,Sur,C093,4002,Carne Molida (libra),Carnes,3.5,5,17.5\\nT091,2025-09-26 17:59:20,Sur,C093,7001,Shampoo,Cuidado Personal,4.5,1,4.5\\nT122,2025-09-27 09:06:17,Norte,C008,5004,Aceite de Girasol 1L,Granos y Abarrotes,3.0,1,3.0\\nT122,2025-09-27 09:06:17,Norte,C008,1003,Yogurt Natural 1L,LÃ¡cteos,1.8,4,7.2\\nT074,2025-09-27 09:15:09,Centro,C001,6002,Jugo de Naranja 1L,Bebidas,1.75,5,8.75'"
      ]
     },
     "execution_count": 53,
     "metadata": {},
     "output_type": "execute_result"
    }
   ],
   "source": [
    "filename = 'C:\\\\Users\\\\P5E003-O\\\\Documents\\\\supermarket.csv'\n",
    "file = open(filename, 'r')\n",
    "file.read()"
   ]
  },
  {
   "cell_type": "code",
   "execution_count": 54,
   "id": "3e7df43c",
   "metadata": {},
   "outputs": [
    {
     "data": {
      "text/html": [
       "<div>\n",
       "<style scoped>\n",
       "    .dataframe tbody tr th:only-of-type {\n",
       "        vertical-align: middle;\n",
       "    }\n",
       "\n",
       "    .dataframe tbody tr th {\n",
       "        vertical-align: top;\n",
       "    }\n",
       "\n",
       "    .dataframe thead th {\n",
       "        text-align: right;\n",
       "    }\n",
       "</style>\n",
       "<table border=\"1\" class=\"dataframe\">\n",
       "  <thead>\n",
       "    <tr style=\"text-align: right;\">\n",
       "      <th></th>\n",
       "      <th>ID_Transaccion</th>\n",
       "      <th>Fecha</th>\n",
       "      <th>Sucursal</th>\n",
       "      <th>ID_Comprador</th>\n",
       "      <th>ID_Producto</th>\n",
       "      <th>Producto</th>\n",
       "      <th>Categoria</th>\n",
       "      <th>Precio_Unitario</th>\n",
       "      <th>Cantidad</th>\n",
       "      <th>Valor_Total</th>\n",
       "    </tr>\n",
       "  </thead>\n",
       "  <tbody>\n",
       "    <tr>\n",
       "      <th>0</th>\n",
       "      <td>T044</td>\n",
       "      <td>2025-09-01 12:34:24</td>\n",
       "      <td>Centro</td>\n",
       "      <td>C061</td>\n",
       "      <td>3001</td>\n",
       "      <td>Manzanas (libra)</td>\n",
       "      <td>Frutas y Verduras</td>\n",
       "      <td>0.85</td>\n",
       "      <td>3</td>\n",
       "      <td>2.55</td>\n",
       "    </tr>\n",
       "    <tr>\n",
       "      <th>1</th>\n",
       "      <td>T044</td>\n",
       "      <td>2025-09-01 12:34:24</td>\n",
       "      <td>Centro</td>\n",
       "      <td>C061</td>\n",
       "      <td>6001</td>\n",
       "      <td>Gaseosa 2L</td>\n",
       "      <td>Bebidas</td>\n",
       "      <td>2.50</td>\n",
       "      <td>5</td>\n",
       "      <td>12.50</td>\n",
       "    </tr>\n",
       "    <tr>\n",
       "      <th>2</th>\n",
       "      <td>T044</td>\n",
       "      <td>2025-09-01 12:34:24</td>\n",
       "      <td>Centro</td>\n",
       "      <td>C061</td>\n",
       "      <td>1002</td>\n",
       "      <td>Queso Fresco 500g</td>\n",
       "      <td>Lácteos</td>\n",
       "      <td>2.50</td>\n",
       "      <td>4</td>\n",
       "      <td>10.00</td>\n",
       "    </tr>\n",
       "    <tr>\n",
       "      <th>3</th>\n",
       "      <td>T044</td>\n",
       "      <td>2025-09-01 12:34:24</td>\n",
       "      <td>Centro</td>\n",
       "      <td>C061</td>\n",
       "      <td>1001</td>\n",
       "      <td>Leche Entera 1L</td>\n",
       "      <td>Lácteos</td>\n",
       "      <td>1.10</td>\n",
       "      <td>2</td>\n",
       "      <td>2.20</td>\n",
       "    </tr>\n",
       "    <tr>\n",
       "      <th>4</th>\n",
       "      <td>T097</td>\n",
       "      <td>2025-09-01 17:59:11</td>\n",
       "      <td>Sur</td>\n",
       "      <td>C061</td>\n",
       "      <td>6002</td>\n",
       "      <td>Jugo de Naranja 1L</td>\n",
       "      <td>Bebidas</td>\n",
       "      <td>1.75</td>\n",
       "      <td>5</td>\n",
       "      <td>8.75</td>\n",
       "    </tr>\n",
       "    <tr>\n",
       "      <th>...</th>\n",
       "      <td>...</td>\n",
       "      <td>...</td>\n",
       "      <td>...</td>\n",
       "      <td>...</td>\n",
       "      <td>...</td>\n",
       "      <td>...</td>\n",
       "      <td>...</td>\n",
       "      <td>...</td>\n",
       "      <td>...</td>\n",
       "      <td>...</td>\n",
       "    </tr>\n",
       "    <tr>\n",
       "      <th>244</th>\n",
       "      <td>T091</td>\n",
       "      <td>2025-09-26 17:59:20</td>\n",
       "      <td>Sur</td>\n",
       "      <td>C093</td>\n",
       "      <td>4002</td>\n",
       "      <td>Carne Molida (libra)</td>\n",
       "      <td>Carnes</td>\n",
       "      <td>3.50</td>\n",
       "      <td>5</td>\n",
       "      <td>17.50</td>\n",
       "    </tr>\n",
       "    <tr>\n",
       "      <th>245</th>\n",
       "      <td>T091</td>\n",
       "      <td>2025-09-26 17:59:20</td>\n",
       "      <td>Sur</td>\n",
       "      <td>C093</td>\n",
       "      <td>7001</td>\n",
       "      <td>Shampoo</td>\n",
       "      <td>Cuidado Personal</td>\n",
       "      <td>4.50</td>\n",
       "      <td>1</td>\n",
       "      <td>4.50</td>\n",
       "    </tr>\n",
       "    <tr>\n",
       "      <th>246</th>\n",
       "      <td>T122</td>\n",
       "      <td>2025-09-27 09:06:17</td>\n",
       "      <td>Norte</td>\n",
       "      <td>C008</td>\n",
       "      <td>5004</td>\n",
       "      <td>Aceite de Girasol 1L</td>\n",
       "      <td>Granos y Abarrotes</td>\n",
       "      <td>3.00</td>\n",
       "      <td>1</td>\n",
       "      <td>3.00</td>\n",
       "    </tr>\n",
       "    <tr>\n",
       "      <th>247</th>\n",
       "      <td>T122</td>\n",
       "      <td>2025-09-27 09:06:17</td>\n",
       "      <td>Norte</td>\n",
       "      <td>C008</td>\n",
       "      <td>1003</td>\n",
       "      <td>Yogurt Natural 1L</td>\n",
       "      <td>Lácteos</td>\n",
       "      <td>1.80</td>\n",
       "      <td>4</td>\n",
       "      <td>7.20</td>\n",
       "    </tr>\n",
       "    <tr>\n",
       "      <th>248</th>\n",
       "      <td>T074</td>\n",
       "      <td>2025-09-27 09:15:09</td>\n",
       "      <td>Centro</td>\n",
       "      <td>C001</td>\n",
       "      <td>6002</td>\n",
       "      <td>Jugo de Naranja 1L</td>\n",
       "      <td>Bebidas</td>\n",
       "      <td>1.75</td>\n",
       "      <td>5</td>\n",
       "      <td>8.75</td>\n",
       "    </tr>\n",
       "  </tbody>\n",
       "</table>\n",
       "<p>249 rows × 10 columns</p>\n",
       "</div>"
      ],
      "text/plain": [
       "    ID_Transaccion                Fecha Sucursal ID_Comprador  ID_Producto  \\\n",
       "0             T044  2025-09-01 12:34:24   Centro         C061         3001   \n",
       "1             T044  2025-09-01 12:34:24   Centro         C061         6001   \n",
       "2             T044  2025-09-01 12:34:24   Centro         C061         1002   \n",
       "3             T044  2025-09-01 12:34:24   Centro         C061         1001   \n",
       "4             T097  2025-09-01 17:59:11      Sur         C061         6002   \n",
       "..             ...                  ...      ...          ...          ...   \n",
       "244           T091  2025-09-26 17:59:20      Sur         C093         4002   \n",
       "245           T091  2025-09-26 17:59:20      Sur         C093         7001   \n",
       "246           T122  2025-09-27 09:06:17    Norte         C008         5004   \n",
       "247           T122  2025-09-27 09:06:17    Norte         C008         1003   \n",
       "248           T074  2025-09-27 09:15:09   Centro         C001         6002   \n",
       "\n",
       "                 Producto           Categoria  Precio_Unitario  Cantidad  \\\n",
       "0        Manzanas (libra)   Frutas y Verduras             0.85         3   \n",
       "1              Gaseosa 2L             Bebidas             2.50         5   \n",
       "2       Queso Fresco 500g             Lácteos             2.50         4   \n",
       "3         Leche Entera 1L             Lácteos             1.10         2   \n",
       "4      Jugo de Naranja 1L             Bebidas             1.75         5   \n",
       "..                    ...                 ...              ...       ...   \n",
       "244  Carne Molida (libra)              Carnes             3.50         5   \n",
       "245               Shampoo    Cuidado Personal             4.50         1   \n",
       "246  Aceite de Girasol 1L  Granos y Abarrotes             3.00         1   \n",
       "247     Yogurt Natural 1L             Lácteos             1.80         4   \n",
       "248    Jugo de Naranja 1L             Bebidas             1.75         5   \n",
       "\n",
       "     Valor_Total  \n",
       "0           2.55  \n",
       "1          12.50  \n",
       "2          10.00  \n",
       "3           2.20  \n",
       "4           8.75  \n",
       "..           ...  \n",
       "244        17.50  \n",
       "245         4.50  \n",
       "246         3.00  \n",
       "247         7.20  \n",
       "248         8.75  \n",
       "\n",
       "[249 rows x 10 columns]"
      ]
     },
     "execution_count": 54,
     "metadata": {},
     "output_type": "execute_result"
    }
   ],
   "source": [
    "pandas.read_csv(filename)"
   ]
  },
  {
   "cell_type": "code",
   "execution_count": 55,
   "id": "e3d5fe9b",
   "metadata": {},
   "outputs": [],
   "source": [
    "df = pandas.read_csv(filename)"
   ]
  },
  {
   "cell_type": "code",
   "execution_count": 56,
   "id": "9f28e4d5",
   "metadata": {},
   "outputs": [
    {
     "data": {
      "text/html": [
       "<div>\n",
       "<style scoped>\n",
       "    .dataframe tbody tr th:only-of-type {\n",
       "        vertical-align: middle;\n",
       "    }\n",
       "\n",
       "    .dataframe tbody tr th {\n",
       "        vertical-align: top;\n",
       "    }\n",
       "\n",
       "    .dataframe thead th {\n",
       "        text-align: right;\n",
       "    }\n",
       "</style>\n",
       "<table border=\"1\" class=\"dataframe\">\n",
       "  <thead>\n",
       "    <tr style=\"text-align: right;\">\n",
       "      <th></th>\n",
       "      <th>ID_Transaccion</th>\n",
       "      <th>Fecha</th>\n",
       "      <th>Sucursal</th>\n",
       "      <th>ID_Comprador</th>\n",
       "      <th>ID_Producto</th>\n",
       "      <th>Producto</th>\n",
       "      <th>Categoria</th>\n",
       "      <th>Precio_Unitario</th>\n",
       "      <th>Cantidad</th>\n",
       "      <th>Valor_Total</th>\n",
       "    </tr>\n",
       "  </thead>\n",
       "  <tbody>\n",
       "    <tr>\n",
       "      <th>0</th>\n",
       "      <td>T044</td>\n",
       "      <td>2025-09-01 12:34:24</td>\n",
       "      <td>Centro</td>\n",
       "      <td>C061</td>\n",
       "      <td>3001</td>\n",
       "      <td>Manzanas (libra)</td>\n",
       "      <td>Frutas y Verduras</td>\n",
       "      <td>0.85</td>\n",
       "      <td>3</td>\n",
       "      <td>2.55</td>\n",
       "    </tr>\n",
       "    <tr>\n",
       "      <th>1</th>\n",
       "      <td>T044</td>\n",
       "      <td>2025-09-01 12:34:24</td>\n",
       "      <td>Centro</td>\n",
       "      <td>C061</td>\n",
       "      <td>6001</td>\n",
       "      <td>Gaseosa 2L</td>\n",
       "      <td>Bebidas</td>\n",
       "      <td>2.50</td>\n",
       "      <td>5</td>\n",
       "      <td>12.50</td>\n",
       "    </tr>\n",
       "    <tr>\n",
       "      <th>2</th>\n",
       "      <td>T044</td>\n",
       "      <td>2025-09-01 12:34:24</td>\n",
       "      <td>Centro</td>\n",
       "      <td>C061</td>\n",
       "      <td>1002</td>\n",
       "      <td>Queso Fresco 500g</td>\n",
       "      <td>Lácteos</td>\n",
       "      <td>2.50</td>\n",
       "      <td>4</td>\n",
       "      <td>10.00</td>\n",
       "    </tr>\n",
       "    <tr>\n",
       "      <th>3</th>\n",
       "      <td>T044</td>\n",
       "      <td>2025-09-01 12:34:24</td>\n",
       "      <td>Centro</td>\n",
       "      <td>C061</td>\n",
       "      <td>1001</td>\n",
       "      <td>Leche Entera 1L</td>\n",
       "      <td>Lácteos</td>\n",
       "      <td>1.10</td>\n",
       "      <td>2</td>\n",
       "      <td>2.20</td>\n",
       "    </tr>\n",
       "    <tr>\n",
       "      <th>4</th>\n",
       "      <td>T097</td>\n",
       "      <td>2025-09-01 17:59:11</td>\n",
       "      <td>Sur</td>\n",
       "      <td>C061</td>\n",
       "      <td>6002</td>\n",
       "      <td>Jugo de Naranja 1L</td>\n",
       "      <td>Bebidas</td>\n",
       "      <td>1.75</td>\n",
       "      <td>5</td>\n",
       "      <td>8.75</td>\n",
       "    </tr>\n",
       "  </tbody>\n",
       "</table>\n",
       "</div>"
      ],
      "text/plain": [
       "  ID_Transaccion                Fecha Sucursal ID_Comprador  ID_Producto  \\\n",
       "0           T044  2025-09-01 12:34:24   Centro         C061         3001   \n",
       "1           T044  2025-09-01 12:34:24   Centro         C061         6001   \n",
       "2           T044  2025-09-01 12:34:24   Centro         C061         1002   \n",
       "3           T044  2025-09-01 12:34:24   Centro         C061         1001   \n",
       "4           T097  2025-09-01 17:59:11      Sur         C061         6002   \n",
       "\n",
       "             Producto          Categoria  Precio_Unitario  Cantidad  \\\n",
       "0    Manzanas (libra)  Frutas y Verduras             0.85         3   \n",
       "1          Gaseosa 2L            Bebidas             2.50         5   \n",
       "2   Queso Fresco 500g            Lácteos             2.50         4   \n",
       "3     Leche Entera 1L            Lácteos             1.10         2   \n",
       "4  Jugo de Naranja 1L            Bebidas             1.75         5   \n",
       "\n",
       "   Valor_Total  \n",
       "0         2.55  \n",
       "1        12.50  \n",
       "2        10.00  \n",
       "3         2.20  \n",
       "4         8.75  "
      ]
     },
     "execution_count": 56,
     "metadata": {},
     "output_type": "execute_result"
    }
   ],
   "source": [
    "df.head()"
   ]
  },
  {
   "cell_type": "code",
   "execution_count": 57,
   "id": "9ea80793",
   "metadata": {},
   "outputs": [
    {
     "data": {
      "text/plain": [
       "0          Manzanas (libra)\n",
       "1                Gaseosa 2L\n",
       "2         Queso Fresco 500g\n",
       "3           Leche Entera 1L\n",
       "4        Jugo de Naranja 1L\n",
       "               ...         \n",
       "244    Carne Molida (libra)\n",
       "245                 Shampoo\n",
       "246    Aceite de Girasol 1L\n",
       "247       Yogurt Natural 1L\n",
       "248      Jugo de Naranja 1L\n",
       "Name: Producto, Length: 249, dtype: object"
      ]
     },
     "execution_count": 57,
     "metadata": {},
     "output_type": "execute_result"
    }
   ],
   "source": [
    "df[\"Producto\"]"
   ]
  },
  {
   "cell_type": "code",
   "execution_count": 58,
   "id": "c90bec86",
   "metadata": {},
   "outputs": [
    {
     "data": {
      "text/plain": [
       "'Queso Fresco 500g'"
      ]
     },
     "execution_count": 58,
     "metadata": {},
     "output_type": "execute_result"
    }
   ],
   "source": [
    "df.iloc[2][\"Producto\"]"
   ]
  },
  {
   "cell_type": "code",
   "execution_count": 59,
   "id": "be934b90",
   "metadata": {},
   "outputs": [
    {
     "data": {
      "text/plain": [
       "ID_Transaccion                    T044\n",
       "Fecha              2025-09-01 12:34:24\n",
       "Sucursal                        Centro\n",
       "ID_Comprador                      C061\n",
       "ID_Producto                       1002\n",
       "Producto             Queso Fresco 500g\n",
       "Categoria                      Lácteos\n",
       "Precio_Unitario                    2.5\n",
       "Cantidad                             4\n",
       "Valor_Total                       10.0\n",
       "Name: 2, dtype: object"
      ]
     },
     "execution_count": 59,
     "metadata": {},
     "output_type": "execute_result"
    }
   ],
   "source": [
    "df.iloc[2]"
   ]
  },
  {
   "cell_type": "code",
   "execution_count": 60,
   "id": "3bfb9b63",
   "metadata": {},
   "outputs": [
    {
     "data": {
      "text/plain": [
       "np.int64(58)"
      ]
     },
     "execution_count": 60,
     "metadata": {},
     "output_type": "execute_result"
    }
   ],
   "source": [
    "df[\"ID_Comprador\"].value_counts().count()"
   ]
  },
  {
   "cell_type": "code",
   "execution_count": 61,
   "id": "7a15196e",
   "metadata": {},
   "outputs": [
    {
     "data": {
      "text/plain": [
       "Producto\n",
       "Jugo de Naranja 1L            19\n",
       "Plátanos (libra)              19\n",
       "Tomate Riñón (libra)          18\n",
       "Lechuga Crespa                17\n",
       "Croissants (unidad)           16\n",
       "Aceite de Girasol 1L          13\n",
       "Yogurt Natural 1L             13\n",
       "Pollo Entero (libra)          13\n",
       "Arroz (kg)                    12\n",
       "Carne Molida (libra)          11\n",
       "Manzanas (libra)              11\n",
       "Papel Higiénico (4 rollos)    10\n",
       "Pan de Molde Blanco           10\n",
       "Lentejas (kg)                 10\n",
       "Detergente Líquido 1L          9\n",
       "Gaseosa 2L                     9\n",
       "Queso Fresco 500g              9\n",
       "Leche Entera 1L                8\n",
       "Shampoo                        8\n",
       "Atún en lata                   7\n",
       "Jamón de Pavo 250g             7\n",
       "Name: count, dtype: int64"
      ]
     },
     "execution_count": 61,
     "metadata": {},
     "output_type": "execute_result"
    }
   ],
   "source": [
    "df[\"Producto\"].value_counts()"
   ]
  },
  {
   "cell_type": "code",
   "execution_count": 62,
   "id": "a7c4746a",
   "metadata": {},
   "outputs": [
    {
     "data": {
      "text/plain": [
       "Categoria\n",
       "Frutas y Verduras     65\n",
       "Granos y Abarrotes    42\n",
       "Carnes                31\n",
       "Lácteos               30\n",
       "Bebidas               28\n",
       "Panadería             26\n",
       "Cuidado Personal      18\n",
       "Limpieza               9\n",
       "Name: count, dtype: int64"
      ]
     },
     "execution_count": 62,
     "metadata": {},
     "output_type": "execute_result"
    }
   ],
   "source": [
    "df[\"Categoria\"].value_counts()"
   ]
  },
  {
   "cell_type": "code",
   "execution_count": 63,
   "id": "23064d78",
   "metadata": {},
   "outputs": [
    {
     "data": {
      "text/plain": [
       "np.float64(1267.8)"
      ]
     },
     "execution_count": 63,
     "metadata": {},
     "output_type": "execute_result"
    }
   ],
   "source": [
    "df[\"Valor_Total\"].sum()"
   ]
  },
  {
   "cell_type": "code",
   "execution_count": 64,
   "id": "f7243ef7",
   "metadata": {},
   "outputs": [
    {
     "data": {
      "text/plain": [
       "0       True\n",
       "1       True\n",
       "2       True\n",
       "3       True\n",
       "4      False\n",
       "       ...  \n",
       "244    False\n",
       "245    False\n",
       "246    False\n",
       "247    False\n",
       "248     True\n",
       "Name: Sucursal, Length: 249, dtype: bool"
      ]
     },
     "execution_count": 64,
     "metadata": {},
     "output_type": "execute_result"
    }
   ],
   "source": [
    "df['Sucursal']=='Centro'"
   ]
  },
  {
   "cell_type": "code",
   "execution_count": 65,
   "id": "e3388781",
   "metadata": {},
   "outputs": [],
   "source": [
    "df_centro = df[df['Sucursal']=='Centro']\n"
   ]
  },
  {
   "cell_type": "code",
   "execution_count": 66,
   "id": "57cc4302",
   "metadata": {},
   "outputs": [
    {
     "data": {
      "text/plain": [
       "np.float64(328.20000000000005)"
      ]
     },
     "execution_count": 66,
     "metadata": {},
     "output_type": "execute_result"
    }
   ],
   "source": [
    "df_centro['Valor_Total'].sum()"
   ]
  },
  {
   "cell_type": "code",
   "execution_count": 72,
   "id": "184b7845",
   "metadata": {},
   "outputs": [],
   "source": [
    "df_sur = df[df['Sucursal']=='Sur']\n",
    "df_norte = df[df['Sucursal']=='Norte']"
   ]
  },
  {
   "cell_type": "code",
   "execution_count": 69,
   "id": "79457d38",
   "metadata": {},
   "outputs": [
    {
     "data": {
      "text/plain": [
       "np.float64(426.20000000000005)"
      ]
     },
     "execution_count": 69,
     "metadata": {},
     "output_type": "execute_result"
    }
   ],
   "source": [
    "df_sur['Valor_Total'].sum()"
   ]
  },
  {
   "cell_type": "code",
   "execution_count": 73,
   "id": "14106d1f",
   "metadata": {},
   "outputs": [
    {
     "data": {
      "text/plain": [
       "np.float64(513.4000000000001)"
      ]
     },
     "execution_count": 73,
     "metadata": {},
     "output_type": "execute_result"
    }
   ],
   "source": [
    "df_norte['Valor_Total'].sum()"
   ]
  }
 ],
 "metadata": {
  "kernelspec": {
   "display_name": "Python 3",
   "language": "python",
   "name": "python3"
  },
  "language_info": {
   "codemirror_mode": {
    "name": "ipython",
    "version": 3
   },
   "file_extension": ".py",
   "mimetype": "text/x-python",
   "name": "python",
   "nbconvert_exporter": "python",
   "pygments_lexer": "ipython3",
   "version": "3.13.7"
  }
 },
 "nbformat": 4,
 "nbformat_minor": 5
}
